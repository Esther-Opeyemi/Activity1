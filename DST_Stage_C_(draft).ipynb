{
  "nbformat": 4,
  "nbformat_minor": 0,
  "metadata": {
    "colab": {
      "provenance": [],
      "authorship_tag": "ABX9TyMCKqzRcPcj1zDvfmUb+quI",
      "include_colab_link": true
    },
    "kernelspec": {
      "name": "python3",
      "display_name": "Python 3"
    },
    "language_info": {
      "name": "python"
    }
  },
  "cells": [
    {
      "cell_type": "markdown",
      "metadata": {
        "id": "view-in-github",
        "colab_type": "text"
      },
      "source": [
        "<a href=\"https://colab.research.google.com/github/Esther-Opeyemi/Activity1/blob/master/DST_Stage_C_(draft).ipynb\" target=\"_parent\"><img src=\"https://colab.research.google.com/assets/colab-badge.svg\" alt=\"Open In Colab\"/></a>"
      ]
    },
    {
      "cell_type": "code",
      "execution_count": 5,
      "metadata": {
        "id": "eKW3BEfie2cE"
      },
      "outputs": [],
      "source": [
        "import requests\n",
        "from bs4 import BeautifulSoup\n",
        "import matplotlib.pyplot as plt"
      ]
    },
    {
      "cell_type": "code",
      "source": [
        "# Fetch the webpage content\n",
        "job_url = \"https://www.jobberman.com/jobs/management-business-development\"\n",
        "response = requests.get(job_url)\n",
        "content = response.content"
      ],
      "metadata": {
        "id": "pRTiY78we55s"
      },
      "execution_count": 6,
      "outputs": []
    },
    {
      "cell_type": "code",
      "source": [
        "content"
      ],
      "metadata": {
        "id": "S9Lpv2CjuFXY"
      },
      "execution_count": null,
      "outputs": []
    },
    {
      "cell_type": "code",
      "source": [
        "#checking if the response was successful\n",
        "response.status_code"
      ],
      "metadata": {
        "colab": {
          "base_uri": "https://localhost:8080/"
        },
        "id": "nZLucAHZlI0f",
        "outputId": "2badcfaf-9888-43cd-ce7e-7e91d69b364b"
      },
      "execution_count": 8,
      "outputs": [
        {
          "output_type": "execute_result",
          "data": {
            "text/plain": [
              "200"
            ]
          },
          "metadata": {},
          "execution_count": 8
        }
      ]
    },
    {
      "cell_type": "code",
      "source": [
        "#BeautifulSoup object\n",
        "soupOBJ = BeautifulSoup(content, \"html.parser\")"
      ],
      "metadata": {
        "id": "dyXIzdbdlJX9"
      },
      "execution_count": 9,
      "outputs": []
    },
    {
      "cell_type": "code",
      "source": [
        "#Retrieving the title of the page\n",
        "title_tag = soupOBJ.select(\".flex-grow-0.flex-shrink-0.mb-7.text-2xl.font-medium.text-gray-700.capitalize.basis-full\")\n"
      ],
      "metadata": {
        "id": "Vj3SeQ0ymEoa"
      },
      "execution_count": 10,
      "outputs": []
    },
    {
      "cell_type": "code",
      "source": [
        "print(title_tag)"
      ],
      "metadata": {
        "colab": {
          "base_uri": "https://localhost:8080/"
        },
        "id": "XAxyZp60t8TN",
        "outputId": "eff32b5d-6798-479a-a93e-677391b55685"
      },
      "execution_count": 11,
      "outputs": [
        {
          "output_type": "stream",
          "name": "stdout",
          "text": [
            "[<h1 class=\"flex-grow-0 flex-shrink-0 mb-7 text-2xl font-medium text-gray-700 capitalize basis-full\">Management &amp; business development jobs in Nigeria</h1>]\n"
          ]
        }
      ]
    },
    {
      "cell_type": "code",
      "source": [
        "Page_title = [font.get_text() for font in title_tag]"
      ],
      "metadata": {
        "id": "biQBzdhR9D5T"
      },
      "execution_count": 12,
      "outputs": []
    },
    {
      "cell_type": "code",
      "source": [
        "Page_title"
      ],
      "metadata": {
        "colab": {
          "base_uri": "https://localhost:8080/"
        },
        "id": "_QAnm7N_-ECb",
        "outputId": "e7837e96-e5d9-4265-c5f1-333a7cee6f03"
      },
      "execution_count": 13,
      "outputs": [
        {
          "output_type": "execute_result",
          "data": {
            "text/plain": [
              "['Management & business development jobs in Nigeria']"
            ]
          },
          "metadata": {},
          "execution_count": 13
        }
      ]
    },
    {
      "cell_type": "code",
      "source": [
        "Job_featured = soup.select(\".flex-1.flex.items-center.justify-between.px-5.py-3.rounded-tr-md.w-full.pr-5 .absolute.inset-0\")"
      ],
      "metadata": {
        "id": "scxA4lZ29nwb"
      },
      "execution_count": 25,
      "outputs": []
    },
    {
      "cell_type": "code",
      "source": [
        "Job_featured"
      ],
      "metadata": {
        "id": "xb8jRGi--HUw",
        "outputId": "3f795dbb-a2ae-4ba4-9225-002aeb29afce",
        "colab": {
          "base_uri": "https://localhost:8080/"
        }
      },
      "execution_count": 26,
      "outputs": [
        {
          "output_type": "execute_result",
          "data": {
            "text/plain": [
              "[<span aria-hidden=\"true\" class=\"absolute inset-0\"></span>,\n",
              " <span aria-hidden=\"true\" class=\"absolute inset-0\"></span>,\n",
              " <span aria-hidden=\"true\" class=\"absolute inset-0\"></span>,\n",
              " <span aria-hidden=\"true\" class=\"absolute inset-0\"></span>,\n",
              " <span aria-hidden=\"true\" class=\"absolute inset-0\"></span>,\n",
              " <span aria-hidden=\"true\" class=\"absolute inset-0\"></span>,\n",
              " <span aria-hidden=\"true\" class=\"absolute inset-0\"></span>,\n",
              " <span aria-hidden=\"true\" class=\"absolute inset-0\"></span>,\n",
              " <span aria-hidden=\"true\" class=\"absolute inset-0\"></span>,\n",
              " <span aria-hidden=\"true\" class=\"absolute inset-0\"></span>,\n",
              " <span aria-hidden=\"true\" class=\"absolute inset-0\"></span>,\n",
              " <span aria-hidden=\"true\" class=\"absolute inset-0\"></span>,\n",
              " <span aria-hidden=\"true\" class=\"absolute inset-0\"></span>,\n",
              " <span aria-hidden=\"true\" class=\"absolute inset-0\"></span>,\n",
              " <span aria-hidden=\"true\" class=\"absolute inset-0\"></span>,\n",
              " <span aria-hidden=\"true\" class=\"absolute inset-0\"></span>,\n",
              " <span aria-hidden=\"true\" class=\"absolute inset-0\"></span>,\n",
              " <span aria-hidden=\"true\" class=\"absolute inset-0\"></span>,\n",
              " <span aria-hidden=\"true\" class=\"absolute inset-0\"></span>]"
            ]
          },
          "metadata": {},
          "execution_count": 26
        }
      ]
    },
    {
      "cell_type": "code",
      "source": [
        "Job_featured"
      ],
      "metadata": {
        "id": "FaMdwkkh-yXD",
        "outputId": "009fdc67-cafe-44c9-8393-4aa829007b8c",
        "colab": {
          "base_uri": "https://localhost:8080/"
        }
      },
      "execution_count": 29,
      "outputs": [
        {
          "output_type": "execute_result",
          "data": {
            "text/plain": [
              "[]"
            ]
          },
          "metadata": {},
          "execution_count": 29
        }
      ]
    },
    {
      "cell_type": "code",
      "source": [
        "#Extracting job listings under the Management & business development job category\n",
        "job_listings = soupOBJ.find_all('div', class_='search-result-details')"
      ],
      "metadata": {
        "id": "dROWeXW--I3J"
      },
      "execution_count": 22,
      "outputs": []
    },
    {
      "cell_type": "code",
      "source": [
        "job_listings"
      ],
      "metadata": {
        "id": "1uNSg2bfWGvU"
      },
      "execution_count": null,
      "outputs": []
    },
    {
      "cell_type": "code",
      "source": [
        "# Create an empty list to store the extracted data\n",
        "job_data = []"
      ],
      "metadata": {
        "id": "37GtzAXtrNe7"
      },
      "execution_count": 18,
      "outputs": []
    },
    {
      "cell_type": "code",
      "source": [],
      "metadata": {
        "id": "au3ZNUTkrb4x"
      },
      "execution_count": 18,
      "outputs": []
    },
    {
      "cell_type": "code",
      "source": [
        "# Extract information from each job listing\n",
        "for job_listing in job_listings:\n",
        "    # Extract job title, company name, location, job description, job type, and date posted\n",
        "    title = job_listing.find('h3', class_='job-title').text.strip()\n",
        "    company = job_listing.find('span', class_='company-name').text.strip()\n",
        "    location = job_listing.find('span', class_='job-location').text.strip()\n",
        "    description = job_listing.find('div', class_='job-description').text.strip()\n",
        "    job_type = job_listing.find('span', class_='job-type').text.strip()\n",
        "    date_posted = job_listing.find('span', class_='date-posted').text.strip()\n",
        "\n",
        "    # Create a dictionary to store the extracted information\n",
        "    job_info = {\n",
        "        'Title': title,\n",
        "        'Company': company,\n",
        "        'Location': location,\n",
        "        'Description': description,\n",
        "        'Job Type': job_type,\n",
        "        'Date Posted': date_posted\n",
        "    }\n",
        "\n",
        "    # Add the job information to the list\n",
        "    job_data.append(job_info)\n",
        "\n",
        "# Print the extracted job data\n",
        "for job in job_data:\n",
        "    print(\"Title:\", job['Title'])\n",
        "    print(\"Company:\", job['Company'])\n",
        "    print(\"Location:\", job['Location'])\n",
        "    print(\"Description:\", job['Description'])\n",
        "    print(\"Job Type:\", job['Job Type'])\n",
        "    print(\"Date Posted:\", job['Date Posted'])\n",
        "    print()"
      ],
      "metadata": {
        "id": "QTJfZtEesq-f"
      },
      "execution_count": 24,
      "outputs": []
    }
  ]
}